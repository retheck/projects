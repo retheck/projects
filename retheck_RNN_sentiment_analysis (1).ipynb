{
 "cells": [
  {
   "cell_type": "markdown",
   "id": "2a874985",
   "metadata": {},
   "source": [
    "# Sentiment Analysis Using RNN"
   ]
  },
  {
   "cell_type": "code",
   "execution_count": 13,
   "id": "a5a80a40",
   "metadata": {},
   "outputs": [
    {
     "name": "stderr",
     "output_type": "stream",
     "text": [
      "[nltk_data] Downloading package omw-1.4 to\n",
      "[nltk_data]     C:\\Users\\Retheck\\AppData\\Roaming\\nltk_data...\n",
      "[nltk_data]   Package omw-1.4 is already up-to-date!\n",
      "[nltk_data] Downloading package wordnet to\n",
      "[nltk_data]     C:\\Users\\Retheck\\AppData\\Roaming\\nltk_data...\n",
      "[nltk_data]   Package wordnet is already up-to-date!\n",
      "[nltk_data] Downloading package punkt to\n",
      "[nltk_data]     C:\\Users\\Retheck\\AppData\\Roaming\\nltk_data...\n",
      "[nltk_data]   Package punkt is already up-to-date!\n",
      "[nltk_data] Downloading package stopwords to\n",
      "[nltk_data]     C:\\Users\\Retheck\\AppData\\Roaming\\nltk_data...\n",
      "[nltk_data]   Package stopwords is already up-to-date!\n"
     ]
    }
   ],
   "source": [
    "import pandas as pd\n",
    "import numpy as np\n",
    "import matplotlib.pyplot as plt\n",
    "from sklearn.model_selection import train_test_split\n",
    "\n",
    "import nltk\n",
    "from nltk.corpus import stopwords\n",
    "from nltk.stem import WordNetLemmatizer\n",
    "from nltk.tokenize import word_tokenize\n",
    "nltk.data.path.append(r'C:\\Users\\Vignesh P\\nltk_data')\n",
    "nltk.download('omw-1.4')\n",
    "nltk.download('wordnet')\n",
    "nltk.download('punkt')\n",
    "nltk.download('stopwords')\n",
    "lemmatizer = WordNetLemmatizer()\n",
    "stop_words = set(stopwords.words('english'))\n",
    "import joblib\n",
    "\n",
    "from tensorflow.keras.preprocessing.text import Tokenizer\n",
    "from tensorflow.keras.preprocessing.sequence import pad_sequences\n",
    "from tensorflow.keras.models import Sequential\n",
    "from tensorflow.keras.layers import Embedding, SimpleRNN, Dense\n",
    "\n",
    "\n",
    "import warnings\n",
    "warnings.filterwarnings(\"ignore\")"
   ]
  },
  {
   "cell_type": "code",
   "execution_count": 12,
   "id": "1563e50c",
   "metadata": {},
   "outputs": [
    {
     "name": "stdout",
     "output_type": "stream",
     "text": [
      "Requirement already satisfied: keras in c:\\users\\retheck\\anaconda3\\lib\\site-packages (3.3.3)\n",
      "Requirement already satisfied: absl-py in c:\\users\\retheck\\anaconda3\\lib\\site-packages (from keras) (2.1.0)\n",
      "Requirement already satisfied: numpy in c:\\users\\retheck\\anaconda3\\lib\\site-packages (from keras) (1.24.3)\n",
      "Requirement already satisfied: rich in c:\\users\\retheck\\anaconda3\\lib\\site-packages (from keras) (13.7.1)\n",
      "Requirement already satisfied: namex in c:\\users\\retheck\\anaconda3\\lib\\site-packages (from keras) (0.0.8)\n",
      "Requirement already satisfied: h5py in c:\\users\\retheck\\anaconda3\\lib\\site-packages (from keras) (3.11.0)\n",
      "Requirement already satisfied: optree in c:\\users\\retheck\\anaconda3\\lib\\site-packages (from keras) (0.11.0)\n",
      "Requirement already satisfied: ml-dtypes in c:\\users\\retheck\\anaconda3\\lib\\site-packages (from keras) (0.3.2)\n",
      "Requirement already satisfied: typing-extensions>=4.0.0 in c:\\users\\retheck\\anaconda3\\lib\\site-packages (from optree->keras) (4.7.1)\n",
      "Requirement already satisfied: markdown-it-py>=2.2.0 in c:\\users\\retheck\\anaconda3\\lib\\site-packages (from rich->keras) (2.2.0)\n",
      "Requirement already satisfied: pygments<3.0.0,>=2.13.0 in c:\\users\\retheck\\anaconda3\\lib\\site-packages (from rich->keras) (2.15.1)\n",
      "Requirement already satisfied: mdurl~=0.1 in c:\\users\\retheck\\anaconda3\\lib\\site-packages (from markdown-it-py>=2.2.0->rich->keras) (0.1.0)\n"
     ]
    }
   ],
   "source": [
    "!pip install keras\n"
   ]
  },
  {
   "cell_type": "markdown",
   "id": "ed91a331",
   "metadata": {},
   "source": [
    "# Load the training data"
   ]
  },
  {
   "cell_type": "code",
   "execution_count": 2,
   "id": "e2c1f6b5",
   "metadata": {},
   "outputs": [],
   "source": [
    "train_data = pd.read_csv(\"C:\\\\Users\\\\Retheck\\\\Downloads\\\\tweets_train.csv\")"
   ]
  },
  {
   "cell_type": "code",
   "execution_count": 3,
   "id": "a414bbfb",
   "metadata": {},
   "outputs": [
    {
     "data": {
      "text/html": [
       "<div>\n",
       "<style scoped>\n",
       "    .dataframe tbody tr th:only-of-type {\n",
       "        vertical-align: middle;\n",
       "    }\n",
       "\n",
       "    .dataframe tbody tr th {\n",
       "        vertical-align: top;\n",
       "    }\n",
       "\n",
       "    .dataframe thead th {\n",
       "        text-align: right;\n",
       "    }\n",
       "</style>\n",
       "<table border=\"1\" class=\"dataframe\">\n",
       "  <thead>\n",
       "    <tr style=\"text-align: right;\">\n",
       "      <th></th>\n",
       "      <th>user_name</th>\n",
       "      <th>user_location</th>\n",
       "      <th>user_description</th>\n",
       "      <th>user_created</th>\n",
       "      <th>user_followers</th>\n",
       "      <th>user_friends</th>\n",
       "      <th>user_favourites</th>\n",
       "      <th>user_verified</th>\n",
       "      <th>date</th>\n",
       "      <th>hashtags</th>\n",
       "      <th>source</th>\n",
       "      <th>is_retweet</th>\n",
       "      <th>clean_text</th>\n",
       "      <th>Sentiment</th>\n",
       "    </tr>\n",
       "  </thead>\n",
       "  <tbody>\n",
       "    <tr>\n",
       "      <th>0</th>\n",
       "      <td>Romy 👑</td>\n",
       "      <td>Bolton - England</td>\n",
       "      <td>Tables turn, bridges burn, you live and learn.</td>\n",
       "      <td>2009-06-15 09:00:39</td>\n",
       "      <td>525</td>\n",
       "      <td>896</td>\n",
       "      <td>3854</td>\n",
       "      <td>False</td>\n",
       "      <td>2020-09-19 15:19:32</td>\n",
       "      <td>['TheSocialDilemma']</td>\n",
       "      <td>Twitter for Android</td>\n",
       "      <td>False</td>\n",
       "      <td>TheSocialDilemma is an eye opener isn t it ple...</td>\n",
       "      <td>Neutral</td>\n",
       "    </tr>\n",
       "    <tr>\n",
       "      <th>1</th>\n",
       "      <td>TLynn Peterson</td>\n",
       "      <td>Black Canyon City, Arizona</td>\n",
       "      <td>Acquired disability ♿ after an accident. Livin...</td>\n",
       "      <td>2013-05-29 00:17:46</td>\n",
       "      <td>5045</td>\n",
       "      <td>5374</td>\n",
       "      <td>48152</td>\n",
       "      <td>False</td>\n",
       "      <td>2020-09-13 00:31:46</td>\n",
       "      <td>['TheSocialDilemma']</td>\n",
       "      <td>Twitter for Android</td>\n",
       "      <td>False</td>\n",
       "      <td>TheSocialDilemma If we don t agree on what is ...</td>\n",
       "      <td>Positive</td>\n",
       "    </tr>\n",
       "    <tr>\n",
       "      <th>2</th>\n",
       "      <td>Rutger Kosters</td>\n",
       "      <td>Netherlands</td>\n",
       "      <td>Cloud Solution Architect @NetApp | VCDX #209 |...</td>\n",
       "      <td>2014-10-07 09:34:10</td>\n",
       "      <td>574</td>\n",
       "      <td>251</td>\n",
       "      <td>1070</td>\n",
       "      <td>False</td>\n",
       "      <td>2020-09-09 21:10:33</td>\n",
       "      <td>['TheSocialDilemma']</td>\n",
       "      <td>Twitter for Android</td>\n",
       "      <td>False</td>\n",
       "      <td>Watching TheSocialDilemma scary to see social ...</td>\n",
       "      <td>Negative</td>\n",
       "    </tr>\n",
       "    <tr>\n",
       "      <th>3</th>\n",
       "      <td>IDFWU🗯🇿🇼🇿🇦</td>\n",
       "      <td>East London, South Africa</td>\n",
       "      <td>YOU HAVE OPTIONS, YOU CAN’T JUST TAKE WHAT LIF...</td>\n",
       "      <td>2012-08-22 11:09:06</td>\n",
       "      <td>706</td>\n",
       "      <td>618</td>\n",
       "      <td>1320</td>\n",
       "      <td>False</td>\n",
       "      <td>2020-09-11 04:33:08</td>\n",
       "      <td>NaN</td>\n",
       "      <td>Twitter for Android</td>\n",
       "      <td>False</td>\n",
       "      <td>You check your social media before you pee in ...</td>\n",
       "      <td>Positive</td>\n",
       "    </tr>\n",
       "    <tr>\n",
       "      <th>4</th>\n",
       "      <td>Treebel</td>\n",
       "      <td>NaN</td>\n",
       "      <td>NaN</td>\n",
       "      <td>2010-09-25 07:25:31</td>\n",
       "      <td>9</td>\n",
       "      <td>13</td>\n",
       "      <td>55</td>\n",
       "      <td>False</td>\n",
       "      <td>2020-09-17 16:27:38</td>\n",
       "      <td>['thesocialdilemma']</td>\n",
       "      <td>Twitter for iPhone</td>\n",
       "      <td>False</td>\n",
       "      <td>watch thesocialdilemma and see what s actually...</td>\n",
       "      <td>Negative</td>\n",
       "    </tr>\n",
       "  </tbody>\n",
       "</table>\n",
       "</div>"
      ],
      "text/plain": [
       "        user_name               user_location  \\\n",
       "0          Romy 👑            Bolton - England   \n",
       "1  TLynn Peterson  Black Canyon City, Arizona   \n",
       "2  Rutger Kosters                 Netherlands   \n",
       "3      IDFWU🗯🇿🇼🇿🇦   East London, South Africa   \n",
       "4         Treebel                         NaN   \n",
       "\n",
       "                                    user_description         user_created  \\\n",
       "0     Tables turn, bridges burn, you live and learn.  2009-06-15 09:00:39   \n",
       "1  Acquired disability ♿ after an accident. Livin...  2013-05-29 00:17:46   \n",
       "2  Cloud Solution Architect @NetApp | VCDX #209 |...  2014-10-07 09:34:10   \n",
       "3  YOU HAVE OPTIONS, YOU CAN’T JUST TAKE WHAT LIF...  2012-08-22 11:09:06   \n",
       "4                                                NaN  2010-09-25 07:25:31   \n",
       "\n",
       "   user_followers  user_friends  user_favourites  user_verified  \\\n",
       "0             525           896             3854          False   \n",
       "1            5045          5374            48152          False   \n",
       "2             574           251             1070          False   \n",
       "3             706           618             1320          False   \n",
       "4               9            13               55          False   \n",
       "\n",
       "                  date              hashtags               source  is_retweet  \\\n",
       "0  2020-09-19 15:19:32  ['TheSocialDilemma']  Twitter for Android       False   \n",
       "1  2020-09-13 00:31:46  ['TheSocialDilemma']  Twitter for Android       False   \n",
       "2  2020-09-09 21:10:33  ['TheSocialDilemma']  Twitter for Android       False   \n",
       "3  2020-09-11 04:33:08                   NaN  Twitter for Android       False   \n",
       "4  2020-09-17 16:27:38  ['thesocialdilemma']   Twitter for iPhone       False   \n",
       "\n",
       "                                          clean_text Sentiment  \n",
       "0  TheSocialDilemma is an eye opener isn t it ple...   Neutral  \n",
       "1  TheSocialDilemma If we don t agree on what is ...  Positive  \n",
       "2  Watching TheSocialDilemma scary to see social ...  Negative  \n",
       "3  You check your social media before you pee in ...  Positive  \n",
       "4  watch thesocialdilemma and see what s actually...  Negative  "
      ]
     },
     "execution_count": 3,
     "metadata": {},
     "output_type": "execute_result"
    }
   ],
   "source": [
    "train_data.head()"
   ]
  },
  {
   "cell_type": "markdown",
   "id": "840eb2d8",
   "metadata": {},
   "source": [
    "# Preprocessing Function"
   ]
  },
  {
   "cell_type": "code",
   "execution_count": 14,
   "id": "9dbad861",
   "metadata": {},
   "outputs": [],
   "source": [
    "def preprocess_data(data, max_words=10000, max_sequence_length=100, save_tokenizer=False, tokenizer_path=None, single_tweet = False):\n",
    "    if single_tweet:\n",
    "        tweets = pd.DataFrame({'clean_text': [single_tweet]})\n",
    "\n",
    "    else:\n",
    "        # Handle null values\n",
    "        data.dropna(subset=['clean_text'], inplace=True)\n",
    "\n",
    "        # Handling duplicates\n",
    "        data.drop_duplicates(subset=['clean_text'], inplace=True)\n",
    "\n",
    "        # Preprocessing for text data\n",
    "        tweets = data['clean_text']\n",
    "\n",
    "    # Lemmatization and removing stopwords to sequences\n",
    "    processed_sequences = []\n",
    "    for tweet in tweets:\n",
    "        tokens = word_tokenize(tweet)  # Tokenize the tweet into words\n",
    "        processed_tokens = [lemmatizer.lemmatize(token) for token in tokens if token.isalnum() and token.lower() not in stop_words]\n",
    "        processed_sequences.append(processed_tokens)\n",
    "\n",
    "    # Converting sequences to sequences of indices using the tokenizer\n",
    "    tokenizer = Tokenizer(num_words=max_words)\n",
    "    tokenizer.fit_on_texts([' '.join(seq) for seq in processed_sequences])\n",
    "    sequences = tokenizer.texts_to_sequences([' '.join(seq) for seq in processed_sequences])\n",
    "\n",
    "    # Saving tokenizer if specified\n",
    "    if save_tokenizer and tokenizer_path:\n",
    "        joblib.dump(tokenizer, tokenizer_path)\n",
    "\n",
    "    # Padding sequences to a fixed length\n",
    "    padded_sequences = pad_sequences(sequences, maxlen=max_sequence_length)\n",
    "\n",
    "    return padded_sequences"
   ]
  },
  {
   "cell_type": "code",
   "execution_count": 15,
   "id": "a17b7bfa",
   "metadata": {},
   "outputs": [],
   "source": [
    "# Applying Pre Processing Function on Training Data\n",
    "\n",
    "x_train = preprocess_data(train_data, save_tokenizer=True, tokenizer_path=\"tokenizer.pkl\")"
   ]
  },
  {
   "cell_type": "code",
   "execution_count": 17,
   "id": "b7620519",
   "metadata": {},
   "outputs": [
    {
     "data": {
      "text/plain": [
       "array([[   0,    0,    0, ..., 1412,   43,  152],\n",
       "       [   0,    0,    0, ...,   26,  108, 1413],\n",
       "       [   0,    0,    0, ...,  482,  859, 1335],\n",
       "       ...,\n",
       "       [   0,    0,    0, ...,    1,   90,   23],\n",
       "       [   0,    0,    0, ...,    5,   91,   72],\n",
       "       [   0,    0,    0, ...,    1,  348,   19]])"
      ]
     },
     "execution_count": 17,
     "metadata": {},
     "output_type": "execute_result"
    }
   ],
   "source": [
    "x_train"
   ]
  },
  {
   "cell_type": "code",
   "execution_count": 18,
   "id": "a7e51399",
   "metadata": {},
   "outputs": [],
   "source": [
    "sentiments_map = {'Positive': 0, 'Neutral': 1, 'Negative': 2}\n",
    "labels = np.array([sentiments_map[i] for i in train_data['Sentiment']])"
   ]
  },
  {
   "cell_type": "code",
   "execution_count": 19,
   "id": "83b20fa1",
   "metadata": {},
   "outputs": [
    {
     "data": {
      "text/plain": [
       "array([1, 0, 2, ..., 1, 0, 2])"
      ]
     },
     "execution_count": 19,
     "metadata": {},
     "output_type": "execute_result"
    }
   ],
   "source": [
    "labels"
   ]
  },
  {
   "cell_type": "markdown",
   "id": "8858897a",
   "metadata": {},
   "source": [
    "# Splitting the Dataset"
   ]
  },
  {
   "cell_type": "code",
   "execution_count": 20,
   "id": "6dc0f978",
   "metadata": {},
   "outputs": [],
   "source": [
    "X_train, X_val, y_train, y_val = train_test_split(x_train, labels, test_size=0.2, random_state=42)"
   ]
  },
  {
   "cell_type": "markdown",
   "id": "f311bbde",
   "metadata": {},
   "source": [
    "# Builing the RNN Model"
   ]
  },
  {
   "cell_type": "code",
   "execution_count": 21,
   "id": "06cba086",
   "metadata": {},
   "outputs": [],
   "source": [
    "model = Sequential()\n",
    "model.add(Embedding(input_dim=10000, output_dim=64, input_length=100))\n",
    "model.add(SimpleRNN(units=128))\n",
    "model.add(Dense(units=3, activation='softmax'))"
   ]
  },
  {
   "cell_type": "code",
   "execution_count": 22,
   "id": "b84ed581",
   "metadata": {},
   "outputs": [],
   "source": [
    "# Model Compilation\n",
    "\n",
    "model.compile(optimizer='adam', loss='sparse_categorical_crossentropy', metrics=['accuracy'])"
   ]
  },
  {
   "cell_type": "code",
   "execution_count": 23,
   "id": "cecc6270",
   "metadata": {},
   "outputs": [
    {
     "name": "stdout",
     "output_type": "stream",
     "text": [
      "Epoch 1/10\n",
      "\u001b[1m402/402\u001b[0m \u001b[32m━━━━━━━━━━━━━━━━━━━━\u001b[0m\u001b[37m\u001b[0m \u001b[1m24s\u001b[0m 49ms/step - accuracy: 0.5328 - loss: 1.0045 - val_accuracy: 0.7392 - val_loss: 0.6485\n",
      "Epoch 2/10\n",
      "\u001b[1m402/402\u001b[0m \u001b[32m━━━━━━━━━━━━━━━━━━━━\u001b[0m\u001b[37m\u001b[0m \u001b[1m18s\u001b[0m 44ms/step - accuracy: 0.8247 - loss: 0.4590 - val_accuracy: 0.8217 - val_loss: 0.4832\n",
      "Epoch 3/10\n",
      "\u001b[1m402/402\u001b[0m \u001b[32m━━━━━━━━━━━━━━━━━━━━\u001b[0m\u001b[37m\u001b[0m \u001b[1m19s\u001b[0m 48ms/step - accuracy: 0.9430 - loss: 0.1844 - val_accuracy: 0.8310 - val_loss: 0.5272\n",
      "Epoch 4/10\n",
      "\u001b[1m402/402\u001b[0m \u001b[32m━━━━━━━━━━━━━━━━━━━━\u001b[0m\u001b[37m\u001b[0m \u001b[1m20s\u001b[0m 49ms/step - accuracy: 0.9769 - loss: 0.0827 - val_accuracy: 0.8360 - val_loss: 0.5823\n",
      "Epoch 5/10\n",
      "\u001b[1m402/402\u001b[0m \u001b[32m━━━━━━━━━━━━━━━━━━━━\u001b[0m\u001b[37m\u001b[0m \u001b[1m19s\u001b[0m 46ms/step - accuracy: 0.9920 - loss: 0.0364 - val_accuracy: 0.8319 - val_loss: 0.6609\n",
      "Epoch 6/10\n",
      "\u001b[1m402/402\u001b[0m \u001b[32m━━━━━━━━━━━━━━━━━━━━\u001b[0m\u001b[37m\u001b[0m \u001b[1m19s\u001b[0m 47ms/step - accuracy: 0.9256 - loss: 0.2056 - val_accuracy: 0.7880 - val_loss: 0.6189\n",
      "Epoch 7/10\n",
      "\u001b[1m402/402\u001b[0m \u001b[32m━━━━━━━━━━━━━━━━━━━━\u001b[0m\u001b[37m\u001b[0m \u001b[1m19s\u001b[0m 47ms/step - accuracy: 0.8940 - loss: 0.2871 - val_accuracy: 0.8313 - val_loss: 0.5488\n",
      "Epoch 8/10\n",
      "\u001b[1m402/402\u001b[0m \u001b[32m━━━━━━━━━━━━━━━━━━━━\u001b[0m\u001b[37m\u001b[0m \u001b[1m20s\u001b[0m 45ms/step - accuracy: 0.9453 - loss: 0.1588 - val_accuracy: 0.8335 - val_loss: 0.5603\n",
      "Epoch 9/10\n",
      "\u001b[1m402/402\u001b[0m \u001b[32m━━━━━━━━━━━━━━━━━━━━\u001b[0m\u001b[37m\u001b[0m \u001b[1m19s\u001b[0m 47ms/step - accuracy: 0.9744 - loss: 0.0854 - val_accuracy: 0.8242 - val_loss: 0.6569\n",
      "Epoch 10/10\n",
      "\u001b[1m402/402\u001b[0m \u001b[32m━━━━━━━━━━━━━━━━━━━━\u001b[0m\u001b[37m\u001b[0m \u001b[1m20s\u001b[0m 49ms/step - accuracy: 0.9837 - loss: 0.0573 - val_accuracy: 0.8447 - val_loss: 0.6185\n"
     ]
    }
   ],
   "source": [
    "# Train the model\n",
    "\n",
    "batch_size = 32\n",
    "epochs = 10\n",
    "history = model.fit(X_train, y_train, batch_size=batch_size, epochs=epochs, validation_data=(X_val, y_val))"
   ]
  },
  {
   "cell_type": "markdown",
   "id": "21d7b890",
   "metadata": {},
   "source": [
    "# Evaluation on Training Data"
   ]
  },
  {
   "cell_type": "code",
   "execution_count": 24,
   "id": "4a10ebd4",
   "metadata": {},
   "outputs": [
    {
     "name": "stdout",
     "output_type": "stream",
     "text": [
      "\u001b[1m402/402\u001b[0m \u001b[32m━━━━━━━━━━━━━━━━━━━━\u001b[0m\u001b[37m\u001b[0m \u001b[1m6s\u001b[0m 15ms/step - accuracy: 0.9883 - loss: 0.0440\n",
      "\u001b[1m101/101\u001b[0m \u001b[32m━━━━━━━━━━━━━━━━━━━━\u001b[0m\u001b[37m\u001b[0m \u001b[1m2s\u001b[0m 17ms/step - accuracy: 0.8433 - loss: 0.6266\n",
      "Training Loss: 0.04247172921895981\n",
      "Training Accuracy: 0.9895719885826111\n",
      "Validation Loss: 0.6184977889060974\n",
      "Validation Accuracy: 0.8446934223175049\n"
     ]
    }
   ],
   "source": [
    "# Evaluating the model on the training data\n",
    "train_loss, train_accuracy = model.evaluate(X_train, y_train, batch_size=batch_size)\n",
    "\n",
    "# Evaluating the model on the validation data\n",
    "val_loss, val_accuracy = model.evaluate(X_val, y_val, batch_size=batch_size)\n",
    "\n",
    "print(\"Training Loss:\", train_loss)\n",
    "print(\"Training Accuracy:\", train_accuracy)\n",
    "print(\"Validation Loss:\", val_loss)\n",
    "print(\"Validation Accuracy:\", val_accuracy)"
   ]
  },
  {
   "cell_type": "code",
   "execution_count": 25,
   "id": "82976f6a",
   "metadata": {},
   "outputs": [
    {
     "data": {
      "image/png": "[encoded data removed]",
      "text/plain": [
       "<Figure size 800x600 with 1 Axes>"
      ]
     },
     "metadata": {},
     "output_type": "display_data"
    }
   ],
   "source": [
    "# Plot training and validation loss\n",
    "\n",
    "plt.figure(figsize=(8, 6))\n",
    "plt.plot(history.history['loss'], label='Training Loss')\n",
    "plt.plot(history.history['val_loss'], label='Validation Loss')\n",
    "plt.title('Training and Validation Loss')\n",
    "plt.xlabel('Epoch')\n",
    "plt.ylabel('Loss')\n",
    "plt.legend()\n",
    "plt.show()"
   ]
  },
  {
   "cell_type": "code",
   "execution_count": 26,
   "id": "f4e2052b",
   "metadata": {},
   "outputs": [
    {
     "data": {
      "image/png": "[encoded data removed]",
      "text/plain": [
       "<Figure size 800x600 with 1 Axes>"
      ]
     },
     "metadata": {},
     "output_type": "display_data"
    }
   ],
   "source": [
    "# Plot for the training and validation accuracy\n",
    "\n",
    "plt.figure(figsize=(8, 6))\n",
    "plt.plot(history.history['accuracy'], label='Training Accuracy')\n",
    "plt.plot(history.history['val_accuracy'], label='Validation Accuracy')\n",
    "plt.title('Training and Validation Accuracy')\n",
    "plt.xlabel('Epoch')\n",
    "plt.ylabel('Accuracy')\n",
    "plt.legend()\n",
    "plt.show()"
   ]
  },
  {
   "cell_type": "markdown",
   "id": "d8ac86b8",
   "metadata": {},
   "source": [
    "#  Loading the Test Data"
   ]
  },
  {
   "cell_type": "code",
   "execution_count": 27,
   "id": "d2f0f4e9",
   "metadata": {},
   "outputs": [],
   "source": [
    "test_data = pd.read_csv(\"C:\\\\Users\\\\Retheck\\\\Downloads\\\\tweets_test.csv\")"
   ]
  },
  {
   "cell_type": "markdown",
   "id": "4869193c",
   "metadata": {},
   "source": [
    "# Preprocessing the Test Data"
   ]
  },
  {
   "cell_type": "code",
   "execution_count": 28,
   "id": "65e2e420",
   "metadata": {},
   "outputs": [],
   "source": [
    "tokenizer = joblib.load(\"tokenizer.pkl\")\n",
    "x_test = preprocess_data(test_data, save_tokenizer=True, tokenizer_path=\"tokenizer.pkl\")"
   ]
  },
  {
   "cell_type": "markdown",
   "id": "567d545b",
   "metadata": {},
   "source": [
    "# Predicting the Test Data"
   ]
  },
  {
   "cell_type": "code",
   "execution_count": 29,
   "id": "1de9d5dc",
   "metadata": {},
   "outputs": [
    {
     "name": "stdout",
     "output_type": "stream",
     "text": [
      "\u001b[1m94/94\u001b[0m \u001b[32m━━━━━━━━━━━━━━━━━━━━\u001b[0m\u001b[37m\u001b[0m \u001b[1m2s\u001b[0m 18ms/step\n"
     ]
    }
   ],
   "source": [
    "predicted_probabilities = model.predict(x_test)\n",
    "predicted_classes = np.argmax(predicted_probabilities, axis=1)"
   ]
  },
  {
   "cell_type": "markdown",
   "id": "b1721902",
   "metadata": {},
   "source": [
    "# Predicting the Future Tweets..!"
   ]
  },
  {
   "cell_type": "code",
   "execution_count": 30,
   "id": "b1eab936",
   "metadata": {},
   "outputs": [],
   "source": [
    "def predict_sentiment(tweet, model, tokenizer):\n",
    "    #PreProcessing the tweet\n",
    "    processed_tweet = preprocess_data(tweet, save_tokenizer=True, tokenizer_path=\"tokenizer.pkl\", single_tweet = True)\n",
    "\n",
    "    # Predict sentiment probabilities\n",
    "    predicted_probabilities = model.predict(processed_tweet)\n",
    "\n",
    "    # Convert probabilities to sentiment label\n",
    "    sentiment_mapping_reverse = {0: 'Positive', 1: 'Neutral', 2: 'Negative'}\n",
    "    predicted_class = np.argmax(predicted_probabilities, axis=1)[0]\n",
    "    predicted_sentiment = sentiment_mapping_reverse[predicted_class]\n",
    "\n",
    "    return predicted_sentiment"
   ]
  },
  {
   "cell_type": "code",
   "execution_count": 32,
   "id": "48ad010d",
   "metadata": {},
   "outputs": [
    {
     "name": "stdout",
     "output_type": "stream",
     "text": [
      "\u001b[1m1/1\u001b[0m \u001b[32m━━━━━━━━━━━━━━━━━━━━\u001b[0m\u001b[37m\u001b[0m \u001b[1m0s\u001b[0m 55ms/step\n",
      "Predicted Sentiment: Neutral\n"
     ]
    }
   ],
   "source": [
    "synthetic_tweet = \"Justice for all. Stand up and speak out. #BlackLivesMatter\"\n",
    "predicted_sentiment = predict_sentiment(synthetic_tweet, model, tokenizer)\n",
    "\n",
    "print(\"Predicted Sentiment:\", predicted_sentiment)"
   ]
  }
 ],
 "metadata": {
  "kernelspec": {
   "display_name": "Python 3 (ipykernel)",
   "language": "python",
   "name": "python3"
  },
  "language_info": {
   "codemirror_mode": {
    "name": "ipython",
    "version": 3
   },
   "file_extension": ".py",
   "mimetype": "text/x-python",
   "name": "python",
   "nbconvert_exporter": "python",
   "pygments_lexer": "ipython3",
   "version": "3.11.5"
  }
 },
 "nbformat": 4,
 "nbformat_minor": 5
}
