{
 "cells": [
  {
   "cell_type": "code",
   "execution_count": 10,
   "id": "3ab4add9",
   "metadata": {},
   "outputs": [
    {
     "data": {
      "text/html": [
       "<div>\n",
       "<style scoped>\n",
       "    .dataframe tbody tr th:only-of-type {\n",
       "        vertical-align: middle;\n",
       "    }\n",
       "\n",
       "    .dataframe tbody tr th {\n",
       "        vertical-align: top;\n",
       "    }\n",
       "\n",
       "    .dataframe thead th {\n",
       "        text-align: right;\n",
       "    }\n",
       "</style>\n",
       "<table border=\"1\" class=\"dataframe\">\n",
       "  <thead>\n",
       "    <tr style=\"text-align: right;\">\n",
       "      <th></th>\n",
       "      <th>trip_duration</th>\n",
       "      <th>distance_traveled</th>\n",
       "      <th>num_of_passengers</th>\n",
       "      <th>fare</th>\n",
       "      <th>tip</th>\n",
       "      <th>miscellaneous_fees</th>\n",
       "      <th>surge_applied</th>\n",
       "    </tr>\n",
       "  </thead>\n",
       "  <tbody>\n",
       "    <tr>\n",
       "      <th>0</th>\n",
       "      <td>748</td>\n",
       "      <td>2.75</td>\n",
       "      <td>1</td>\n",
       "      <td>75.00</td>\n",
       "      <td>24</td>\n",
       "      <td>6.300</td>\n",
       "      <td>0</td>\n",
       "    </tr>\n",
       "    <tr>\n",
       "      <th>1</th>\n",
       "      <td>1187</td>\n",
       "      <td>3.43</td>\n",
       "      <td>1</td>\n",
       "      <td>105.00</td>\n",
       "      <td>24</td>\n",
       "      <td>13.200</td>\n",
       "      <td>0</td>\n",
       "    </tr>\n",
       "    <tr>\n",
       "      <th>2</th>\n",
       "      <td>730</td>\n",
       "      <td>3.12</td>\n",
       "      <td>1</td>\n",
       "      <td>71.25</td>\n",
       "      <td>0</td>\n",
       "      <td>26.625</td>\n",
       "      <td>1</td>\n",
       "    </tr>\n",
       "    <tr>\n",
       "      <th>3</th>\n",
       "      <td>671</td>\n",
       "      <td>5.63</td>\n",
       "      <td>3</td>\n",
       "      <td>90.00</td>\n",
       "      <td>0</td>\n",
       "      <td>9.750</td>\n",
       "      <td>0</td>\n",
       "    </tr>\n",
       "    <tr>\n",
       "      <th>4</th>\n",
       "      <td>329</td>\n",
       "      <td>2.09</td>\n",
       "      <td>1</td>\n",
       "      <td>45.00</td>\n",
       "      <td>12</td>\n",
       "      <td>13.200</td>\n",
       "      <td>0</td>\n",
       "    </tr>\n",
       "    <tr>\n",
       "      <th>...</th>\n",
       "      <td>...</td>\n",
       "      <td>...</td>\n",
       "      <td>...</td>\n",
       "      <td>...</td>\n",
       "      <td>...</td>\n",
       "      <td>...</td>\n",
       "      <td>...</td>\n",
       "    </tr>\n",
       "    <tr>\n",
       "      <th>209668</th>\n",
       "      <td>1617</td>\n",
       "      <td>8.42</td>\n",
       "      <td>1</td>\n",
       "      <td>150.00</td>\n",
       "      <td>47</td>\n",
       "      <td>5.800</td>\n",
       "      <td>0</td>\n",
       "    </tr>\n",
       "    <tr>\n",
       "      <th>209669</th>\n",
       "      <td>438</td>\n",
       "      <td>1.29</td>\n",
       "      <td>1</td>\n",
       "      <td>48.75</td>\n",
       "      <td>12</td>\n",
       "      <td>34.575</td>\n",
       "      <td>1</td>\n",
       "    </tr>\n",
       "    <tr>\n",
       "      <th>209670</th>\n",
       "      <td>571</td>\n",
       "      <td>2.82</td>\n",
       "      <td>1</td>\n",
       "      <td>63.75</td>\n",
       "      <td>0</td>\n",
       "      <td>6.000</td>\n",
       "      <td>0</td>\n",
       "    </tr>\n",
       "    <tr>\n",
       "      <th>209671</th>\n",
       "      <td>491</td>\n",
       "      <td>2.16</td>\n",
       "      <td>1</td>\n",
       "      <td>56.25</td>\n",
       "      <td>0</td>\n",
       "      <td>13.500</td>\n",
       "      <td>0</td>\n",
       "    </tr>\n",
       "    <tr>\n",
       "      <th>209672</th>\n",
       "      <td>3614</td>\n",
       "      <td>33.72</td>\n",
       "      <td>1</td>\n",
       "      <td>337.50</td>\n",
       "      <td>0</td>\n",
       "      <td>2.250</td>\n",
       "      <td>0</td>\n",
       "    </tr>\n",
       "  </tbody>\n",
       "</table>\n",
       "<p>209673 rows × 7 columns</p>\n",
       "</div>"
      ],
      "text/plain": [
       "        trip_duration  distance_traveled  num_of_passengers    fare  tip  \\\n",
       "0                 748               2.75                  1   75.00   24   \n",
       "1                1187               3.43                  1  105.00   24   \n",
       "2                 730               3.12                  1   71.25    0   \n",
       "3                 671               5.63                  3   90.00    0   \n",
       "4                 329               2.09                  1   45.00   12   \n",
       "...               ...                ...                ...     ...  ...   \n",
       "209668           1617               8.42                  1  150.00   47   \n",
       "209669            438               1.29                  1   48.75   12   \n",
       "209670            571               2.82                  1   63.75    0   \n",
       "209671            491               2.16                  1   56.25    0   \n",
       "209672           3614              33.72                  1  337.50    0   \n",
       "\n",
       "        miscellaneous_fees  surge_applied  \n",
       "0                    6.300              0  \n",
       "1                   13.200              0  \n",
       "2                   26.625              1  \n",
       "3                    9.750              0  \n",
       "4                   13.200              0  \n",
       "...                    ...            ...  \n",
       "209668               5.800              0  \n",
       "209669              34.575              1  \n",
       "209670               6.000              0  \n",
       "209671              13.500              0  \n",
       "209672               2.250              0  \n",
       "\n",
       "[209673 rows x 7 columns]"
      ]
     },
     "execution_count": 10,
     "metadata": {},
     "output_type": "execute_result"
    }
   ],
   "source": [
    "import pandas as pd\n",
    "import numpy as np\n",
    "import matplotlib.pyplot as plt\n",
    "import seaborn as sns\n",
    "import statsmodels.api as sm\n",
    "from sklearn.linear_model import LinearRegression\n",
    "from sklearn.model_selection import train_test_split\n",
    "from sklearn.metrics import r2_score\n",
    "df = pd.read_csv(\"C:\\\\Users\\\\Retheck\\\\Downloads\\\\fare file python\\\\fare.csv\")\n",
    "df"
   ]
  },
  {
   "cell_type": "code",
   "execution_count": 11,
   "id": "52ea339c",
   "metadata": {},
   "outputs": [
    {
     "data": {
      "text/html": [
       "<div>\n",
       "<style scoped>\n",
       "    .dataframe tbody tr th:only-of-type {\n",
       "        vertical-align: middle;\n",
       "    }\n",
       "\n",
       "    .dataframe tbody tr th {\n",
       "        vertical-align: top;\n",
       "    }\n",
       "\n",
       "    .dataframe thead th {\n",
       "        text-align: right;\n",
       "    }\n",
       "</style>\n",
       "<table border=\"1\" class=\"dataframe\">\n",
       "  <thead>\n",
       "    <tr style=\"text-align: right;\">\n",
       "      <th></th>\n",
       "      <th>trip_duration</th>\n",
       "      <th>distance_traveled</th>\n",
       "      <th>num_of_passengers</th>\n",
       "      <th>fare</th>\n",
       "      <th>tip</th>\n",
       "      <th>miscellaneous_fees</th>\n",
       "      <th>surge_applied</th>\n",
       "    </tr>\n",
       "  </thead>\n",
       "  <tbody>\n",
       "    <tr>\n",
       "      <th>0</th>\n",
       "      <td>748</td>\n",
       "      <td>2.75</td>\n",
       "      <td>1</td>\n",
       "      <td>75.00</td>\n",
       "      <td>24</td>\n",
       "      <td>6.300</td>\n",
       "      <td>0</td>\n",
       "    </tr>\n",
       "    <tr>\n",
       "      <th>1</th>\n",
       "      <td>1187</td>\n",
       "      <td>3.43</td>\n",
       "      <td>1</td>\n",
       "      <td>105.00</td>\n",
       "      <td>24</td>\n",
       "      <td>13.200</td>\n",
       "      <td>0</td>\n",
       "    </tr>\n",
       "    <tr>\n",
       "      <th>2</th>\n",
       "      <td>730</td>\n",
       "      <td>3.12</td>\n",
       "      <td>1</td>\n",
       "      <td>71.25</td>\n",
       "      <td>0</td>\n",
       "      <td>26.625</td>\n",
       "      <td>1</td>\n",
       "    </tr>\n",
       "    <tr>\n",
       "      <th>3</th>\n",
       "      <td>671</td>\n",
       "      <td>5.63</td>\n",
       "      <td>3</td>\n",
       "      <td>90.00</td>\n",
       "      <td>0</td>\n",
       "      <td>9.750</td>\n",
       "      <td>0</td>\n",
       "    </tr>\n",
       "    <tr>\n",
       "      <th>4</th>\n",
       "      <td>329</td>\n",
       "      <td>2.09</td>\n",
       "      <td>1</td>\n",
       "      <td>45.00</td>\n",
       "      <td>12</td>\n",
       "      <td>13.200</td>\n",
       "      <td>0</td>\n",
       "    </tr>\n",
       "  </tbody>\n",
       "</table>\n",
       "</div>"
      ],
      "text/plain": [
       "   trip_duration  distance_traveled  num_of_passengers    fare  tip  \\\n",
       "0            748               2.75                  1   75.00   24   \n",
       "1           1187               3.43                  1  105.00   24   \n",
       "2            730               3.12                  1   71.25    0   \n",
       "3            671               5.63                  3   90.00    0   \n",
       "4            329               2.09                  1   45.00   12   \n",
       "\n",
       "   miscellaneous_fees  surge_applied  \n",
       "0               6.300              0  \n",
       "1              13.200              0  \n",
       "2              26.625              1  \n",
       "3               9.750              0  \n",
       "4              13.200              0  "
      ]
     },
     "execution_count": 11,
     "metadata": {},
     "output_type": "execute_result"
    }
   ],
   "source": [
    "df.head()"
   ]
  },
  {
   "cell_type": "code",
   "execution_count": 12,
   "id": "de37c837",
   "metadata": {},
   "outputs": [
    {
     "data": {
      "text/plain": [
       "(209673, 7)"
      ]
     },
     "execution_count": 12,
     "metadata": {},
     "output_type": "execute_result"
    }
   ],
   "source": [
    "df.shape"
   ]
  },
  {
   "cell_type": "code",
   "execution_count": 13,
   "id": "f2784d55",
   "metadata": {},
   "outputs": [
    {
     "data": {
      "text/plain": [
       "Index(['trip_duration', 'distance_traveled', 'num_of_passengers', 'fare',\n",
       "       'tip', 'miscellaneous_fees', 'surge_applied'],\n",
       "      dtype='object')"
      ]
     },
     "execution_count": 13,
     "metadata": {},
     "output_type": "execute_result"
    }
   ],
   "source": [
    "df.columns"
   ]
  },
  {
   "cell_type": "code",
   "execution_count": 14,
   "id": "c83ecf70",
   "metadata": {},
   "outputs": [
    {
     "data": {
      "text/plain": [
       "trip_duration         0\n",
       "distance_traveled     0\n",
       "num_of_passengers     0\n",
       "fare                  0\n",
       "tip                   0\n",
       "miscellaneous_fees    0\n",
       "surge_applied         0\n",
       "dtype: int64"
      ]
     },
     "execution_count": 14,
     "metadata": {},
     "output_type": "execute_result"
    }
   ],
   "source": [
    "#NULL VALUES\n",
    "\n",
    "df.isnull().sum()"
   ]
  },
  {
   "cell_type": "code",
   "execution_count": 15,
   "id": "e2cf4b25",
   "metadata": {},
   "outputs": [
    {
     "data": {
      "text/plain": [
       "trip_duration           int64\n",
       "distance_traveled     float64\n",
       "num_of_passengers       int64\n",
       "fare                  float64\n",
       "tip                     int64\n",
       "miscellaneous_fees    float64\n",
       "surge_applied           int64\n",
       "dtype: object"
      ]
     },
     "execution_count": 15,
     "metadata": {},
     "output_type": "execute_result"
    }
   ],
   "source": [
    "#DESCRIPTIVE ANALYTICS\n",
    "#EDA\n",
    "\n",
    "df.dtypes"
   ]
  },
  {
   "cell_type": "code",
   "execution_count": 16,
   "id": "9578aa28",
   "metadata": {},
   "outputs": [
    {
     "data": {
      "text/html": [
       "<div>\n",
       "<style scoped>\n",
       "    .dataframe tbody tr th:only-of-type {\n",
       "        vertical-align: middle;\n",
       "    }\n",
       "\n",
       "    .dataframe tbody tr th {\n",
       "        vertical-align: top;\n",
       "    }\n",
       "\n",
       "    .dataframe thead th {\n",
       "        text-align: right;\n",
       "    }\n",
       "</style>\n",
       "<table border=\"1\" class=\"dataframe\">\n",
       "  <thead>\n",
       "    <tr style=\"text-align: right;\">\n",
       "      <th></th>\n",
       "      <th>trip_duration</th>\n",
       "      <th>distance_traveled</th>\n",
       "      <th>num_of_passengers</th>\n",
       "      <th>fare</th>\n",
       "      <th>tip</th>\n",
       "      <th>miscellaneous_fees</th>\n",
       "      <th>surge_applied</th>\n",
       "    </tr>\n",
       "  </thead>\n",
       "  <tbody>\n",
       "    <tr>\n",
       "      <th>count</th>\n",
       "      <td>209673.000000</td>\n",
       "      <td>209673.000000</td>\n",
       "      <td>209673.000000</td>\n",
       "      <td>209673.000000</td>\n",
       "      <td>209673.000000</td>\n",
       "      <td>209673.000000</td>\n",
       "      <td>209673.000000</td>\n",
       "    </tr>\n",
       "    <tr>\n",
       "      <th>mean</th>\n",
       "      <td>1173.181478</td>\n",
       "      <td>5.054431</td>\n",
       "      <td>1.292808</td>\n",
       "      <td>99.623431</td>\n",
       "      <td>13.030824</td>\n",
       "      <td>15.136829</td>\n",
       "      <td>0.280523</td>\n",
       "    </tr>\n",
       "    <tr>\n",
       "      <th>std</th>\n",
       "      <td>4775.653621</td>\n",
       "      <td>125.217419</td>\n",
       "      <td>0.930754</td>\n",
       "      <td>85.602702</td>\n",
       "      <td>20.367764</td>\n",
       "      <td>12.553436</td>\n",
       "      <td>0.449256</td>\n",
       "    </tr>\n",
       "    <tr>\n",
       "      <th>min</th>\n",
       "      <td>0.000000</td>\n",
       "      <td>0.020000</td>\n",
       "      <td>0.000000</td>\n",
       "      <td>0.000000</td>\n",
       "      <td>0.000000</td>\n",
       "      <td>-0.500000</td>\n",
       "      <td>0.000000</td>\n",
       "    </tr>\n",
       "    <tr>\n",
       "      <th>25%</th>\n",
       "      <td>446.000000</td>\n",
       "      <td>1.950000</td>\n",
       "      <td>1.000000</td>\n",
       "      <td>52.500000</td>\n",
       "      <td>0.000000</td>\n",
       "      <td>6.000000</td>\n",
       "      <td>0.000000</td>\n",
       "    </tr>\n",
       "    <tr>\n",
       "      <th>50%</th>\n",
       "      <td>707.000000</td>\n",
       "      <td>3.200000</td>\n",
       "      <td>1.000000</td>\n",
       "      <td>75.000000</td>\n",
       "      <td>9.000000</td>\n",
       "      <td>9.750000</td>\n",
       "      <td>0.000000</td>\n",
       "    </tr>\n",
       "    <tr>\n",
       "      <th>75%</th>\n",
       "      <td>1098.000000</td>\n",
       "      <td>5.730000</td>\n",
       "      <td>1.000000</td>\n",
       "      <td>116.250000</td>\n",
       "      <td>20.000000</td>\n",
       "      <td>26.450000</td>\n",
       "      <td>1.000000</td>\n",
       "    </tr>\n",
       "    <tr>\n",
       "      <th>max</th>\n",
       "      <td>86387.000000</td>\n",
       "      <td>57283.910000</td>\n",
       "      <td>9.000000</td>\n",
       "      <td>4466.250000</td>\n",
       "      <td>2500.000000</td>\n",
       "      <td>435.000000</td>\n",
       "      <td>1.000000</td>\n",
       "    </tr>\n",
       "  </tbody>\n",
       "</table>\n",
       "</div>"
      ],
      "text/plain": [
       "       trip_duration  distance_traveled  num_of_passengers           fare  \\\n",
       "count  209673.000000      209673.000000      209673.000000  209673.000000   \n",
       "mean     1173.181478           5.054431           1.292808      99.623431   \n",
       "std      4775.653621         125.217419           0.930754      85.602702   \n",
       "min         0.000000           0.020000           0.000000       0.000000   \n",
       "25%       446.000000           1.950000           1.000000      52.500000   \n",
       "50%       707.000000           3.200000           1.000000      75.000000   \n",
       "75%      1098.000000           5.730000           1.000000     116.250000   \n",
       "max     86387.000000       57283.910000           9.000000    4466.250000   \n",
       "\n",
       "                 tip  miscellaneous_fees  surge_applied  \n",
       "count  209673.000000       209673.000000  209673.000000  \n",
       "mean       13.030824           15.136829       0.280523  \n",
       "std        20.367764           12.553436       0.449256  \n",
       "min         0.000000           -0.500000       0.000000  \n",
       "25%         0.000000            6.000000       0.000000  \n",
       "50%         9.000000            9.750000       0.000000  \n",
       "75%        20.000000           26.450000       1.000000  \n",
       "max      2500.000000          435.000000       1.000000  "
      ]
     },
     "execution_count": 16,
     "metadata": {},
     "output_type": "execute_result"
    }
   ],
   "source": [
    "df.describe()"
   ]
  },
  {
   "cell_type": "code",
   "execution_count": 17,
   "id": "bc15918d",
   "metadata": {},
   "outputs": [
    {
     "data": {
      "text/plain": [
       "0          748\n",
       "1         1187\n",
       "2          730\n",
       "3          671\n",
       "4          329\n",
       "          ... \n",
       "209668    1617\n",
       "209669     438\n",
       "209670     571\n",
       "209671     491\n",
       "209672    3614\n",
       "Name: trip_duration, Length: 209673, dtype: int64"
      ]
     },
     "execution_count": 17,
     "metadata": {},
     "output_type": "execute_result"
    }
   ],
   "source": [
    "df['trip_duration']"
   ]
  },
  {
   "cell_type": "code",
   "execution_count": 55,
   "id": "c9b8d6cb",
   "metadata": {},
   "outputs": [
    {
     "data": {
      "text/plain": [
       "<Axes: xlabel='trip_duration', ylabel='Density'>"
      ]
     },
     "execution_count": 55,
     "metadata": {},
     "output_type": "execute_result"
    },
    {
     "data": {
      "image/png": "[encoded data removed]",
      "text/plain": [
       "<Figure size 640x480 with 1 Axes>"
      ]
     },
     "metadata": {},
     "output_type": "display_data"
    }
   ],
   "source": [
    "import warnings\n",
    "warnings.filterwarnings('ignore')\n",
    "sns.distplot(df['trip_duration'])\n"
   ]
  },
  {
   "cell_type": "code",
   "execution_count": null,
   "id": "eb28c280",
   "metadata": {},
   "outputs": [],
   "source": []
  },
  {
   "cell_type": "code",
   "execution_count": 56,
   "id": "a80f5017",
   "metadata": {},
   "outputs": [
    {
     "data": {
      "text/html": [
       "<div>\n",
       "<style scoped>\n",
       "    .dataframe tbody tr th:only-of-type {\n",
       "        vertical-align: middle;\n",
       "    }\n",
       "\n",
       "    .dataframe tbody tr th {\n",
       "        vertical-align: top;\n",
       "    }\n",
       "\n",
       "    .dataframe thead th {\n",
       "        text-align: right;\n",
       "    }\n",
       "</style>\n",
       "<table border=\"1\" class=\"dataframe\">\n",
       "  <thead>\n",
       "    <tr style=\"text-align: right;\">\n",
       "      <th></th>\n",
       "      <th>trip_duration</th>\n",
       "      <th>distance_traveled</th>\n",
       "    </tr>\n",
       "  </thead>\n",
       "  <tbody>\n",
       "    <tr>\n",
       "      <th>3074</th>\n",
       "      <td>0</td>\n",
       "      <td>0.18</td>\n",
       "    </tr>\n",
       "    <tr>\n",
       "      <th>4535</th>\n",
       "      <td>0</td>\n",
       "      <td>0.02</td>\n",
       "    </tr>\n",
       "    <tr>\n",
       "      <th>15019</th>\n",
       "      <td>0</td>\n",
       "      <td>7.19</td>\n",
       "    </tr>\n",
       "    <tr>\n",
       "      <th>46617</th>\n",
       "      <td>0</td>\n",
       "      <td>0.11</td>\n",
       "    </tr>\n",
       "    <tr>\n",
       "      <th>51024</th>\n",
       "      <td>0</td>\n",
       "      <td>0.05</td>\n",
       "    </tr>\n",
       "    <tr>\n",
       "      <th>75746</th>\n",
       "      <td>0</td>\n",
       "      <td>0.10</td>\n",
       "    </tr>\n",
       "    <tr>\n",
       "      <th>80323</th>\n",
       "      <td>0</td>\n",
       "      <td>0.02</td>\n",
       "    </tr>\n",
       "    <tr>\n",
       "      <th>82499</th>\n",
       "      <td>0</td>\n",
       "      <td>0.24</td>\n",
       "    </tr>\n",
       "    <tr>\n",
       "      <th>98332</th>\n",
       "      <td>0</td>\n",
       "      <td>0.02</td>\n",
       "    </tr>\n",
       "    <tr>\n",
       "      <th>130369</th>\n",
       "      <td>0</td>\n",
       "      <td>0.10</td>\n",
       "    </tr>\n",
       "    <tr>\n",
       "      <th>131446</th>\n",
       "      <td>0</td>\n",
       "      <td>0.16</td>\n",
       "    </tr>\n",
       "    <tr>\n",
       "      <th>139456</th>\n",
       "      <td>0</td>\n",
       "      <td>0.11</td>\n",
       "    </tr>\n",
       "    <tr>\n",
       "      <th>144462</th>\n",
       "      <td>0</td>\n",
       "      <td>0.40</td>\n",
       "    </tr>\n",
       "    <tr>\n",
       "      <th>154787</th>\n",
       "      <td>0</td>\n",
       "      <td>3.22</td>\n",
       "    </tr>\n",
       "    <tr>\n",
       "      <th>181260</th>\n",
       "      <td>0</td>\n",
       "      <td>0.11</td>\n",
       "    </tr>\n",
       "    <tr>\n",
       "      <th>181484</th>\n",
       "      <td>0</td>\n",
       "      <td>0.05</td>\n",
       "    </tr>\n",
       "    <tr>\n",
       "      <th>189435</th>\n",
       "      <td>0</td>\n",
       "      <td>0.06</td>\n",
       "    </tr>\n",
       "    <tr>\n",
       "      <th>189685</th>\n",
       "      <td>0</td>\n",
       "      <td>0.29</td>\n",
       "    </tr>\n",
       "    <tr>\n",
       "      <th>190278</th>\n",
       "      <td>0</td>\n",
       "      <td>0.37</td>\n",
       "    </tr>\n",
       "    <tr>\n",
       "      <th>201019</th>\n",
       "      <td>0</td>\n",
       "      <td>0.11</td>\n",
       "    </tr>\n",
       "    <tr>\n",
       "      <th>203692</th>\n",
       "      <td>0</td>\n",
       "      <td>0.23</td>\n",
       "    </tr>\n",
       "    <tr>\n",
       "      <th>208249</th>\n",
       "      <td>0</td>\n",
       "      <td>0.05</td>\n",
       "    </tr>\n",
       "  </tbody>\n",
       "</table>\n",
       "</div>"
      ],
      "text/plain": [
       "        trip_duration  distance_traveled\n",
       "3074                0               0.18\n",
       "4535                0               0.02\n",
       "15019               0               7.19\n",
       "46617               0               0.11\n",
       "51024               0               0.05\n",
       "75746               0               0.10\n",
       "80323               0               0.02\n",
       "82499               0               0.24\n",
       "98332               0               0.02\n",
       "130369              0               0.10\n",
       "131446              0               0.16\n",
       "139456              0               0.11\n",
       "144462              0               0.40\n",
       "154787              0               3.22\n",
       "181260              0               0.11\n",
       "181484              0               0.05\n",
       "189435              0               0.06\n",
       "189685              0               0.29\n",
       "190278              0               0.37\n",
       "201019              0               0.11\n",
       "203692              0               0.23\n",
       "208249              0               0.05"
      ]
     },
     "execution_count": 56,
     "metadata": {},
     "output_type": "execute_result"
    }
   ],
   "source": [
    "#DISTANCE TRAVELLED WITH TRIP_DURATION\n",
    "\n",
    "dff=df[['trip_duration','distance_traveled']]\n",
    "dff=dff[dff['trip_duration']==0]\n",
    "dff"
   ]
  },
  {
   "cell_type": "code",
   "execution_count": 57,
   "id": "85353ee4",
   "metadata": {},
   "outputs": [
    {
     "data": {
      "text/plain": [
       "Index(['trip_duration', 'distance_traveled', 'num_of_passengers', 'fare',\n",
       "       'tip', 'miscellaneous_fees', 'surge_applied'],\n",
       "      dtype='object')"
      ]
     },
     "execution_count": 57,
     "metadata": {},
     "output_type": "execute_result"
    }
   ],
   "source": [
    "df.columns"
   ]
  },
  {
   "cell_type": "code",
   "execution_count": 58,
   "id": "deda049c",
   "metadata": {},
   "outputs": [
    {
     "data": {
      "text/plain": [
       "array([1], dtype=int64)"
      ]
     },
     "execution_count": 58,
     "metadata": {},
     "output_type": "execute_result"
    }
   ],
   "source": [
    "df['num_of_passengers'].unique()"
   ]
  },
  {
   "cell_type": "code",
   "execution_count": 59,
   "id": "3340c9ad",
   "metadata": {},
   "outputs": [
    {
     "data": {
      "text/plain": [
       "0         1\n",
       "1         1\n",
       "2         1\n",
       "4         1\n",
       "5         1\n",
       "         ..\n",
       "209666    1\n",
       "209667    1\n",
       "209669    1\n",
       "209670    1\n",
       "209671    1\n",
       "Name: num_of_passengers, Length: 153472, dtype: int64"
      ]
     },
     "execution_count": 59,
     "metadata": {},
     "output_type": "execute_result"
    }
   ],
   "source": [
    "df['num_of_passengers']\n"
   ]
  },
  {
   "cell_type": "code",
   "execution_count": 60,
   "id": "49cbfdfe",
   "metadata": {},
   "outputs": [
    {
     "data": {
      "text/html": [
       "<div>\n",
       "<style scoped>\n",
       "    .dataframe tbody tr th:only-of-type {\n",
       "        vertical-align: middle;\n",
       "    }\n",
       "\n",
       "    .dataframe tbody tr th {\n",
       "        vertical-align: top;\n",
       "    }\n",
       "\n",
       "    .dataframe thead th {\n",
       "        text-align: right;\n",
       "    }\n",
       "</style>\n",
       "<table border=\"1\" class=\"dataframe\">\n",
       "  <thead>\n",
       "    <tr style=\"text-align: right;\">\n",
       "      <th></th>\n",
       "      <th>trip_duration</th>\n",
       "      <th>distance_traveled</th>\n",
       "      <th>num_of_passengers</th>\n",
       "    </tr>\n",
       "  </thead>\n",
       "  <tbody>\n",
       "  </tbody>\n",
       "</table>\n",
       "</div>"
      ],
      "text/plain": [
       "Empty DataFrame\n",
       "Columns: [trip_duration, distance_traveled, num_of_passengers]\n",
       "Index: []"
      ]
     },
     "execution_count": 60,
     "metadata": {},
     "output_type": "execute_result"
    }
   ],
   "source": [
    "\n",
    "dff=df[['trip_duration','distance_traveled','num_of_passengers']]\n",
    "dff=dff[dff['num_of_passengers']==0]\n",
    "dff"
   ]
  },
  {
   "cell_type": "code",
   "execution_count": null,
   "id": "ca854918",
   "metadata": {},
   "outputs": [],
   "source": []
  },
  {
   "cell_type": "code",
   "execution_count": 61,
   "id": "ee0607ce",
   "metadata": {},
   "outputs": [
    {
     "data": {
      "text/plain": [
       "Index([], dtype='int64')"
      ]
     },
     "execution_count": 61,
     "metadata": {},
     "output_type": "execute_result"
    }
   ],
   "source": [
    "dff_index=df[df['num_of_passengers']==0].index\n",
    "dff_index"
   ]
  },
  {
   "cell_type": "code",
   "execution_count": 62,
   "id": "edaa7c0f",
   "metadata": {},
   "outputs": [],
   "source": [
    "df=df.drop(dff_index,axis=0)"
   ]
  },
  {
   "cell_type": "code",
   "execution_count": 63,
   "id": "92464482",
   "metadata": {},
   "outputs": [
    {
     "data": {
      "text/plain": [
       "(153472, 7)"
      ]
     },
     "execution_count": 63,
     "metadata": {},
     "output_type": "execute_result"
    }
   ],
   "source": [
    "df.shape"
   ]
  },
  {
   "cell_type": "code",
   "execution_count": 64,
   "id": "8de6c491",
   "metadata": {},
   "outputs": [
    {
     "data": {
      "text/html": [
       "<div>\n",
       "<style scoped>\n",
       "    .dataframe tbody tr th:only-of-type {\n",
       "        vertical-align: middle;\n",
       "    }\n",
       "\n",
       "    .dataframe tbody tr th {\n",
       "        vertical-align: top;\n",
       "    }\n",
       "\n",
       "    .dataframe thead th {\n",
       "        text-align: right;\n",
       "    }\n",
       "</style>\n",
       "<table border=\"1\" class=\"dataframe\">\n",
       "  <thead>\n",
       "    <tr style=\"text-align: right;\">\n",
       "      <th></th>\n",
       "      <th>trip_duration</th>\n",
       "      <th>distance_traveled</th>\n",
       "      <th>num_of_passengers</th>\n",
       "      <th>fare</th>\n",
       "      <th>tip</th>\n",
       "      <th>miscellaneous_fees</th>\n",
       "      <th>surge_applied</th>\n",
       "    </tr>\n",
       "  </thead>\n",
       "  <tbody>\n",
       "    <tr>\n",
       "      <th>0</th>\n",
       "      <td>748</td>\n",
       "      <td>2.75</td>\n",
       "      <td>1</td>\n",
       "      <td>75.00</td>\n",
       "      <td>24</td>\n",
       "      <td>6.300</td>\n",
       "      <td>0</td>\n",
       "    </tr>\n",
       "    <tr>\n",
       "      <th>1</th>\n",
       "      <td>1187</td>\n",
       "      <td>3.43</td>\n",
       "      <td>1</td>\n",
       "      <td>105.00</td>\n",
       "      <td>24</td>\n",
       "      <td>13.200</td>\n",
       "      <td>0</td>\n",
       "    </tr>\n",
       "    <tr>\n",
       "      <th>2</th>\n",
       "      <td>730</td>\n",
       "      <td>3.12</td>\n",
       "      <td>1</td>\n",
       "      <td>71.25</td>\n",
       "      <td>0</td>\n",
       "      <td>26.625</td>\n",
       "      <td>1</td>\n",
       "    </tr>\n",
       "    <tr>\n",
       "      <th>4</th>\n",
       "      <td>329</td>\n",
       "      <td>2.09</td>\n",
       "      <td>1</td>\n",
       "      <td>45.00</td>\n",
       "      <td>12</td>\n",
       "      <td>13.200</td>\n",
       "      <td>0</td>\n",
       "    </tr>\n",
       "    <tr>\n",
       "      <th>5</th>\n",
       "      <td>355</td>\n",
       "      <td>1.74</td>\n",
       "      <td>1</td>\n",
       "      <td>45.00</td>\n",
       "      <td>0</td>\n",
       "      <td>26.625</td>\n",
       "      <td>1</td>\n",
       "    </tr>\n",
       "  </tbody>\n",
       "</table>\n",
       "</div>"
      ],
      "text/plain": [
       "   trip_duration  distance_traveled  num_of_passengers    fare  tip  \\\n",
       "0            748               2.75                  1   75.00   24   \n",
       "1           1187               3.43                  1  105.00   24   \n",
       "2            730               3.12                  1   71.25    0   \n",
       "4            329               2.09                  1   45.00   12   \n",
       "5            355               1.74                  1   45.00    0   \n",
       "\n",
       "   miscellaneous_fees  surge_applied  \n",
       "0               6.300              0  \n",
       "1              13.200              0  \n",
       "2              26.625              1  \n",
       "4              13.200              0  \n",
       "5              26.625              1  "
      ]
     },
     "execution_count": 64,
     "metadata": {},
     "output_type": "execute_result"
    }
   ],
   "source": [
    "##feature engineering\n",
    "\n",
    "df.head()"
   ]
  },
  {
   "cell_type": "code",
   "execution_count": 65,
   "id": "15798b8c",
   "metadata": {},
   "outputs": [],
   "source": [
    "df['Total_fare']=df['fare']+df['miscellaneous_fees']"
   ]
  },
  {
   "cell_type": "code",
   "execution_count": 66,
   "id": "6309101e",
   "metadata": {},
   "outputs": [
    {
     "data": {
      "text/html": [
       "<div>\n",
       "<style scoped>\n",
       "    .dataframe tbody tr th:only-of-type {\n",
       "        vertical-align: middle;\n",
       "    }\n",
       "\n",
       "    .dataframe tbody tr th {\n",
       "        vertical-align: top;\n",
       "    }\n",
       "\n",
       "    .dataframe thead th {\n",
       "        text-align: right;\n",
       "    }\n",
       "</style>\n",
       "<table border=\"1\" class=\"dataframe\">\n",
       "  <thead>\n",
       "    <tr style=\"text-align: right;\">\n",
       "      <th></th>\n",
       "      <th>trip_duration</th>\n",
       "      <th>distance_traveled</th>\n",
       "      <th>num_of_passengers</th>\n",
       "      <th>fare</th>\n",
       "      <th>tip</th>\n",
       "      <th>miscellaneous_fees</th>\n",
       "      <th>surge_applied</th>\n",
       "      <th>Total_fare</th>\n",
       "    </tr>\n",
       "  </thead>\n",
       "  <tbody>\n",
       "    <tr>\n",
       "      <th>0</th>\n",
       "      <td>748</td>\n",
       "      <td>2.75</td>\n",
       "      <td>1</td>\n",
       "      <td>75.00</td>\n",
       "      <td>24</td>\n",
       "      <td>6.300</td>\n",
       "      <td>0</td>\n",
       "      <td>81.300</td>\n",
       "    </tr>\n",
       "    <tr>\n",
       "      <th>1</th>\n",
       "      <td>1187</td>\n",
       "      <td>3.43</td>\n",
       "      <td>1</td>\n",
       "      <td>105.00</td>\n",
       "      <td>24</td>\n",
       "      <td>13.200</td>\n",
       "      <td>0</td>\n",
       "      <td>118.200</td>\n",
       "    </tr>\n",
       "    <tr>\n",
       "      <th>2</th>\n",
       "      <td>730</td>\n",
       "      <td>3.12</td>\n",
       "      <td>1</td>\n",
       "      <td>71.25</td>\n",
       "      <td>0</td>\n",
       "      <td>26.625</td>\n",
       "      <td>1</td>\n",
       "      <td>97.875</td>\n",
       "    </tr>\n",
       "    <tr>\n",
       "      <th>4</th>\n",
       "      <td>329</td>\n",
       "      <td>2.09</td>\n",
       "      <td>1</td>\n",
       "      <td>45.00</td>\n",
       "      <td>12</td>\n",
       "      <td>13.200</td>\n",
       "      <td>0</td>\n",
       "      <td>58.200</td>\n",
       "    </tr>\n",
       "    <tr>\n",
       "      <th>5</th>\n",
       "      <td>355</td>\n",
       "      <td>1.74</td>\n",
       "      <td>1</td>\n",
       "      <td>45.00</td>\n",
       "      <td>0</td>\n",
       "      <td>26.625</td>\n",
       "      <td>1</td>\n",
       "      <td>71.625</td>\n",
       "    </tr>\n",
       "  </tbody>\n",
       "</table>\n",
       "</div>"
      ],
      "text/plain": [
       "   trip_duration  distance_traveled  num_of_passengers    fare  tip  \\\n",
       "0            748               2.75                  1   75.00   24   \n",
       "1           1187               3.43                  1  105.00   24   \n",
       "2            730               3.12                  1   71.25    0   \n",
       "4            329               2.09                  1   45.00   12   \n",
       "5            355               1.74                  1   45.00    0   \n",
       "\n",
       "   miscellaneous_fees  surge_applied  Total_fare  \n",
       "0               6.300              0      81.300  \n",
       "1              13.200              0     118.200  \n",
       "2              26.625              1      97.875  \n",
       "4              13.200              0      58.200  \n",
       "5              26.625              1      71.625  "
      ]
     },
     "execution_count": 66,
     "metadata": {},
     "output_type": "execute_result"
    }
   ],
   "source": [
    "df.head()"
   ]
  },
  {
   "cell_type": "code",
   "execution_count": 67,
   "id": "7d562c37",
   "metadata": {},
   "outputs": [],
   "source": [
    "df=df.drop(['fare','tip','miscellaneous_fees'],axis=1)"
   ]
  },
  {
   "cell_type": "code",
   "execution_count": 68,
   "id": "e31fbb75",
   "metadata": {},
   "outputs": [
    {
     "data": {
      "text/html": [
       "<div>\n",
       "<style scoped>\n",
       "    .dataframe tbody tr th:only-of-type {\n",
       "        vertical-align: middle;\n",
       "    }\n",
       "\n",
       "    .dataframe tbody tr th {\n",
       "        vertical-align: top;\n",
       "    }\n",
       "\n",
       "    .dataframe thead th {\n",
       "        text-align: right;\n",
       "    }\n",
       "</style>\n",
       "<table border=\"1\" class=\"dataframe\">\n",
       "  <thead>\n",
       "    <tr style=\"text-align: right;\">\n",
       "      <th></th>\n",
       "      <th>trip_duration</th>\n",
       "      <th>distance_traveled</th>\n",
       "      <th>num_of_passengers</th>\n",
       "      <th>surge_applied</th>\n",
       "      <th>Total_fare</th>\n",
       "    </tr>\n",
       "  </thead>\n",
       "  <tbody>\n",
       "    <tr>\n",
       "      <th>0</th>\n",
       "      <td>748</td>\n",
       "      <td>2.75</td>\n",
       "      <td>1</td>\n",
       "      <td>0</td>\n",
       "      <td>81.300</td>\n",
       "    </tr>\n",
       "    <tr>\n",
       "      <th>1</th>\n",
       "      <td>1187</td>\n",
       "      <td>3.43</td>\n",
       "      <td>1</td>\n",
       "      <td>0</td>\n",
       "      <td>118.200</td>\n",
       "    </tr>\n",
       "    <tr>\n",
       "      <th>2</th>\n",
       "      <td>730</td>\n",
       "      <td>3.12</td>\n",
       "      <td>1</td>\n",
       "      <td>1</td>\n",
       "      <td>97.875</td>\n",
       "    </tr>\n",
       "    <tr>\n",
       "      <th>4</th>\n",
       "      <td>329</td>\n",
       "      <td>2.09</td>\n",
       "      <td>1</td>\n",
       "      <td>0</td>\n",
       "      <td>58.200</td>\n",
       "    </tr>\n",
       "    <tr>\n",
       "      <th>5</th>\n",
       "      <td>355</td>\n",
       "      <td>1.74</td>\n",
       "      <td>1</td>\n",
       "      <td>1</td>\n",
       "      <td>71.625</td>\n",
       "    </tr>\n",
       "  </tbody>\n",
       "</table>\n",
       "</div>"
      ],
      "text/plain": [
       "   trip_duration  distance_traveled  num_of_passengers  surge_applied  \\\n",
       "0            748               2.75                  1              0   \n",
       "1           1187               3.43                  1              0   \n",
       "2            730               3.12                  1              1   \n",
       "4            329               2.09                  1              0   \n",
       "5            355               1.74                  1              1   \n",
       "\n",
       "   Total_fare  \n",
       "0      81.300  \n",
       "1     118.200  \n",
       "2      97.875  \n",
       "4      58.200  \n",
       "5      71.625  "
      ]
     },
     "execution_count": 68,
     "metadata": {},
     "output_type": "execute_result"
    }
   ],
   "source": [
    "df.head()"
   ]
  },
  {
   "cell_type": "code",
   "execution_count": 69,
   "id": "b4e7b528",
   "metadata": {},
   "outputs": [
    {
     "data": {
      "image/png": "[encoded data removed]",
      "text/plain": [
       "<Figure size 640x480 with 1 Axes>"
      ]
     },
     "metadata": {},
     "output_type": "display_data"
    },
    {
     "data": {
      "image/png": "[encoded data removed]",
      "text/plain": [
       "<Figure size 640x480 with 1 Axes>"
      ]
     },
     "metadata": {},
     "output_type": "display_data"
    },
    {
     "data": {
      "image/png": "[encoded data removed]",
      "text/plain": [
       "<Figure size 640x480 with 1 Axes>"
      ]
     },
     "metadata": {},
     "output_type": "display_data"
    },
    {
     "data": {
      "image/png": "[encoded data removed]",
      "text/plain": [
       "<Figure size 640x480 with 1 Axes>"
      ]
     },
     "metadata": {},
     "output_type": "display_data"
    },
    {
     "data": {
      "image/png": "[encoded data removed]",
      "text/plain": [
       "<Figure size 640x480 with 1 Axes>"
      ]
     },
     "metadata": {},
     "output_type": "display_data"
    }
   ],
   "source": [
    "##outliers\n",
    "\n",
    "for i in df.columns:\n",
    "    sns.boxplot(df[i])\n",
    "    plt.show()\n",
    "    \n",
    "    "
   ]
  },
  {
   "cell_type": "code",
   "execution_count": 70,
   "id": "0528a8e8",
   "metadata": {},
   "outputs": [],
   "source": [
    "def outlier_detection(data):\n",
    "    df1=data.columns\n",
    "    shape=data.shape\n",
    "    \n",
    "    for i in df1:\n",
    "        print(f\"Processing columns:{i}\")\n",
    "        print(f\"Old Shape:{shape}\")\n",
    "        \n",
    "        \n",
    "        data_frame=data[i]\n",
    "        q1=data_frame.quantile(0.25)\n",
    "        q3=data_frame.quantile(0.75)\n",
    "        iqr=q3-q1\n",
    "        lower=q1-1.5*iqr\n",
    "        upper=q3+1.5*iqr\n",
    "        \n",
    "        outliers=data[(data[i]<lower)|(data[i]>upper)]\n",
    "        data.drop(index=outliers.index,inplace=True)\n",
    "        \n",
    "        print(f\"New shape:{data.shape}\")\n",
    "        \n",
    "    return data\n",
    "        "
   ]
  },
  {
   "cell_type": "code",
   "execution_count": 71,
   "id": "48c814e2",
   "metadata": {},
   "outputs": [
    {
     "name": "stdout",
     "output_type": "stream",
     "text": [
      "Processing columns:trip_duration\n",
      "Old Shape:(153472, 5)\n",
      "New shape:(150435, 5)\n",
      "Processing columns:distance_traveled\n",
      "Old Shape:(153472, 5)\n",
      "New shape:(145153, 5)\n",
      "Processing columns:num_of_passengers\n",
      "Old Shape:(153472, 5)\n",
      "New shape:(145153, 5)\n",
      "Processing columns:surge_applied\n",
      "Old Shape:(153472, 5)\n",
      "New shape:(109947, 5)\n",
      "Processing columns:Total_fare\n",
      "Old Shape:(153472, 5)\n",
      "New shape:(108899, 5)\n"
     ]
    }
   ],
   "source": [
    "fin_df=outlier_detection(df)"
   ]
  },
  {
   "cell_type": "code",
   "execution_count": 72,
   "id": "4d5c73f1",
   "metadata": {},
   "outputs": [
    {
     "data": {
      "text/plain": [
       "(108899, 5)"
      ]
     },
     "execution_count": 72,
     "metadata": {},
     "output_type": "execute_result"
    }
   ],
   "source": [
    "fin_df.shape"
   ]
  },
  {
   "cell_type": "code",
   "execution_count": 73,
   "id": "08815ca5",
   "metadata": {},
   "outputs": [
    {
     "data": {
      "text/html": [
       "<div>\n",
       "<style scoped>\n",
       "    .dataframe tbody tr th:only-of-type {\n",
       "        vertical-align: middle;\n",
       "    }\n",
       "\n",
       "    .dataframe tbody tr th {\n",
       "        vertical-align: top;\n",
       "    }\n",
       "\n",
       "    .dataframe thead th {\n",
       "        text-align: right;\n",
       "    }\n",
       "</style>\n",
       "<table border=\"1\" class=\"dataframe\">\n",
       "  <thead>\n",
       "    <tr style=\"text-align: right;\">\n",
       "      <th></th>\n",
       "      <th>trip_duration</th>\n",
       "      <th>distance_traveled</th>\n",
       "      <th>num_of_passengers</th>\n",
       "      <th>surge_applied</th>\n",
       "      <th>Total_fare</th>\n",
       "    </tr>\n",
       "  </thead>\n",
       "  <tbody>\n",
       "    <tr>\n",
       "      <th>trip_duration</th>\n",
       "      <td>1.000000</td>\n",
       "      <td>0.749568</td>\n",
       "      <td>NaN</td>\n",
       "      <td>NaN</td>\n",
       "      <td>0.898080</td>\n",
       "    </tr>\n",
       "    <tr>\n",
       "      <th>distance_traveled</th>\n",
       "      <td>0.749568</td>\n",
       "      <td>1.000000</td>\n",
       "      <td>NaN</td>\n",
       "      <td>NaN</td>\n",
       "      <td>0.880649</td>\n",
       "    </tr>\n",
       "    <tr>\n",
       "      <th>num_of_passengers</th>\n",
       "      <td>NaN</td>\n",
       "      <td>NaN</td>\n",
       "      <td>NaN</td>\n",
       "      <td>NaN</td>\n",
       "      <td>NaN</td>\n",
       "    </tr>\n",
       "    <tr>\n",
       "      <th>surge_applied</th>\n",
       "      <td>NaN</td>\n",
       "      <td>NaN</td>\n",
       "      <td>NaN</td>\n",
       "      <td>NaN</td>\n",
       "      <td>NaN</td>\n",
       "    </tr>\n",
       "    <tr>\n",
       "      <th>Total_fare</th>\n",
       "      <td>0.898080</td>\n",
       "      <td>0.880649</td>\n",
       "      <td>NaN</td>\n",
       "      <td>NaN</td>\n",
       "      <td>1.000000</td>\n",
       "    </tr>\n",
       "  </tbody>\n",
       "</table>\n",
       "</div>"
      ],
      "text/plain": [
       "                   trip_duration  distance_traveled  num_of_passengers  \\\n",
       "trip_duration           1.000000           0.749568                NaN   \n",
       "distance_traveled       0.749568           1.000000                NaN   \n",
       "num_of_passengers            NaN                NaN                NaN   \n",
       "surge_applied                NaN                NaN                NaN   \n",
       "Total_fare              0.898080           0.880649                NaN   \n",
       "\n",
       "                   surge_applied  Total_fare  \n",
       "trip_duration                NaN    0.898080  \n",
       "distance_traveled            NaN    0.880649  \n",
       "num_of_passengers            NaN         NaN  \n",
       "surge_applied                NaN         NaN  \n",
       "Total_fare                   NaN    1.000000  "
      ]
     },
     "execution_count": 73,
     "metadata": {},
     "output_type": "execute_result"
    }
   ],
   "source": [
    "fin_df.corr()"
   ]
  },
  {
   "cell_type": "code",
   "execution_count": 74,
   "id": "7c1f7083",
   "metadata": {},
   "outputs": [],
   "source": [
    "#multiple linear regression\n",
    "\n",
    "x = fin_df.drop('Total_fare',axis=1)\n",
    "y= fin_df['Total_fare']"
   ]
  },
  {
   "cell_type": "code",
   "execution_count": 75,
   "id": "3011c973",
   "metadata": {},
   "outputs": [
    {
     "data": {
      "text/plain": [
       "0     81.30\n",
       "1    118.20\n",
       "4     58.20\n",
       "6     58.50\n",
       "8     39.75\n",
       "Name: Total_fare, dtype: float64"
      ]
     },
     "execution_count": 75,
     "metadata": {},
     "output_type": "execute_result"
    }
   ],
   "source": [
    "y.head()"
   ]
  },
  {
   "cell_type": "code",
   "execution_count": 76,
   "id": "047af78d",
   "metadata": {},
   "outputs": [],
   "source": [
    "xtrain,xtest,ytrain,ytest=train_test_split(x,y,test_size=0.20,random_state=10)"
   ]
  },
  {
   "cell_type": "code",
   "execution_count": 77,
   "id": "9efe7b6f",
   "metadata": {},
   "outputs": [
    {
     "data": {
      "text/plain": [
       "((87119, 4), (87119,))"
      ]
     },
     "execution_count": 77,
     "metadata": {},
     "output_type": "execute_result"
    }
   ],
   "source": [
    "xtrain.shape,ytrain.shape"
   ]
  },
  {
   "cell_type": "code",
   "execution_count": 78,
   "id": "c669d335",
   "metadata": {},
   "outputs": [
    {
     "data": {
      "text/plain": [
       "((21780, 4), (21780,))"
      ]
     },
     "execution_count": 78,
     "metadata": {},
     "output_type": "execute_result"
    }
   ],
   "source": [
    "xtest.shape,ytest.shape"
   ]
  },
  {
   "cell_type": "code",
   "execution_count": 79,
   "id": "2bbdf4ad",
   "metadata": {},
   "outputs": [],
   "source": [
    "model = LinearRegression().fit(xtrain,ytrain)"
   ]
  },
  {
   "cell_type": "code",
   "execution_count": 80,
   "id": "5dd62c13",
   "metadata": {},
   "outputs": [
    {
     "data": {
      "text/plain": [
       "array([0.04484661, 7.78862213, 0.        , 0.        ])"
      ]
     },
     "execution_count": 80,
     "metadata": {},
     "output_type": "execute_result"
    }
   ],
   "source": [
    "model.coef_"
   ]
  },
  {
   "cell_type": "code",
   "execution_count": 81,
   "id": "ace77958",
   "metadata": {},
   "outputs": [
    {
     "data": {
      "text/plain": [
       "26.457320040387245"
      ]
     },
     "execution_count": 81,
     "metadata": {},
     "output_type": "execute_result"
    }
   ],
   "source": [
    "model.intercept_"
   ]
  },
  {
   "cell_type": "code",
   "execution_count": 82,
   "id": "a2d5377c",
   "metadata": {},
   "outputs": [],
   "source": [
    "predictions= model.predict(xtest)"
   ]
  },
  {
   "cell_type": "code",
   "execution_count": 83,
   "id": "7e21258d",
   "metadata": {},
   "outputs": [],
   "source": [
    "pred_table=pd.DataFrame()\n",
    "pred_table['Prediction']= predictions\n",
    "pred_table['Actual']=list(ytest)"
   ]
  },
  {
   "cell_type": "code",
   "execution_count": 84,
   "id": "2840dfa9",
   "metadata": {},
   "outputs": [
    {
     "data": {
      "text/html": [
       "<div>\n",
       "<style scoped>\n",
       "    .dataframe tbody tr th:only-of-type {\n",
       "        vertical-align: middle;\n",
       "    }\n",
       "\n",
       "    .dataframe tbody tr th {\n",
       "        vertical-align: top;\n",
       "    }\n",
       "\n",
       "    .dataframe thead th {\n",
       "        text-align: right;\n",
       "    }\n",
       "</style>\n",
       "<table border=\"1\" class=\"dataframe\">\n",
       "  <thead>\n",
       "    <tr style=\"text-align: right;\">\n",
       "      <th></th>\n",
       "      <th>Prediction</th>\n",
       "      <th>Actual</th>\n",
       "    </tr>\n",
       "  </thead>\n",
       "  <tbody>\n",
       "    <tr>\n",
       "      <th>0</th>\n",
       "      <td>44.466306</td>\n",
       "      <td>39.75</td>\n",
       "    </tr>\n",
       "    <tr>\n",
       "      <th>1</th>\n",
       "      <td>123.490277</td>\n",
       "      <td>118.20</td>\n",
       "    </tr>\n",
       "    <tr>\n",
       "      <th>2</th>\n",
       "      <td>76.355909</td>\n",
       "      <td>73.50</td>\n",
       "    </tr>\n",
       "    <tr>\n",
       "      <th>3</th>\n",
       "      <td>46.642457</td>\n",
       "      <td>62.25</td>\n",
       "    </tr>\n",
       "    <tr>\n",
       "      <th>4</th>\n",
       "      <td>84.805922</td>\n",
       "      <td>88.50</td>\n",
       "    </tr>\n",
       "    <tr>\n",
       "      <th>...</th>\n",
       "      <td>...</td>\n",
       "      <td>...</td>\n",
       "    </tr>\n",
       "    <tr>\n",
       "      <th>21775</th>\n",
       "      <td>81.149533</td>\n",
       "      <td>81.00</td>\n",
       "    </tr>\n",
       "    <tr>\n",
       "      <th>21776</th>\n",
       "      <td>95.556602</td>\n",
       "      <td>92.25</td>\n",
       "    </tr>\n",
       "    <tr>\n",
       "      <th>21777</th>\n",
       "      <td>103.640399</td>\n",
       "      <td>103.20</td>\n",
       "    </tr>\n",
       "    <tr>\n",
       "      <th>21778</th>\n",
       "      <td>124.446544</td>\n",
       "      <td>122.70</td>\n",
       "    </tr>\n",
       "    <tr>\n",
       "      <th>21779</th>\n",
       "      <td>65.578834</td>\n",
       "      <td>66.00</td>\n",
       "    </tr>\n",
       "  </tbody>\n",
       "</table>\n",
       "<p>21780 rows × 2 columns</p>\n",
       "</div>"
      ],
      "text/plain": [
       "       Prediction  Actual\n",
       "0       44.466306   39.75\n",
       "1      123.490277  118.20\n",
       "2       76.355909   73.50\n",
       "3       46.642457   62.25\n",
       "4       84.805922   88.50\n",
       "...           ...     ...\n",
       "21775   81.149533   81.00\n",
       "21776   95.556602   92.25\n",
       "21777  103.640399  103.20\n",
       "21778  124.446544  122.70\n",
       "21779   65.578834   66.00\n",
       "\n",
       "[21780 rows x 2 columns]"
      ]
     },
     "execution_count": 84,
     "metadata": {},
     "output_type": "execute_result"
    }
   ],
   "source": [
    "pred_table"
   ]
  },
  {
   "cell_type": "code",
   "execution_count": 85,
   "id": "4f495e44",
   "metadata": {},
   "outputs": [
    {
     "data": {
      "text/plain": [
       "0"
      ]
     },
     "execution_count": 85,
     "metadata": {},
     "output_type": "execute_result"
    }
   ],
   "source": [
    "ytest.isnull().sum()"
   ]
  },
  {
   "cell_type": "code",
   "execution_count": 86,
   "id": "9417d4be",
   "metadata": {},
   "outputs": [],
   "source": [
    "from sklearn.metrics import r2_score"
   ]
  },
  {
   "cell_type": "code",
   "execution_count": 87,
   "id": "24fb8385",
   "metadata": {},
   "outputs": [
    {
     "data": {
      "text/plain": [
       "0.89863357805629"
      ]
     },
     "execution_count": 87,
     "metadata": {},
     "output_type": "execute_result"
    }
   ],
   "source": [
    "r2_score(ytest,predictions)"
   ]
  },
  {
   "cell_type": "code",
   "execution_count": 88,
   "id": "693bf6a5",
   "metadata": {},
   "outputs": [],
   "source": [
    "model=sm.OLS(y,x).fit()"
   ]
  },
  {
   "cell_type": "code",
   "execution_count": 89,
   "id": "3fe8c48f",
   "metadata": {},
   "outputs": [
    {
     "data": {
      "text/html": [
       "<table class=\"simpletable\">\n",
       "<caption>OLS Regression Results</caption>\n",
       "<tr>\n",
       "  <th>Dep. Variable:</th>       <td>Total_fare</td>    <th>  R-squared:         </th>  <td>   0.905</td>  \n",
       "</tr>\n",
       "<tr>\n",
       "  <th>Model:</th>                   <td>OLS</td>       <th>  Adj. R-squared:    </th>  <td>   0.905</td>  \n",
       "</tr>\n",
       "<tr>\n",
       "  <th>Method:</th>             <td>Least Squares</td>  <th>  F-statistic:       </th>  <td>5.175e+05</td> \n",
       "</tr>\n",
       "<tr>\n",
       "  <th>Date:</th>             <td>Fri, 22 Mar 2024</td> <th>  Prob (F-statistic):</th>   <td>  0.00</td>   \n",
       "</tr>\n",
       "<tr>\n",
       "  <th>Time:</th>                 <td>01:58:27</td>     <th>  Log-Likelihood:    </th> <td>-3.7976e+05</td>\n",
       "</tr>\n",
       "<tr>\n",
       "  <th>No. Observations:</th>      <td>108899</td>      <th>  AIC:               </th>  <td>7.595e+05</td> \n",
       "</tr>\n",
       "<tr>\n",
       "  <th>Df Residuals:</th>          <td>108896</td>      <th>  BIC:               </th>  <td>7.596e+05</td> \n",
       "</tr>\n",
       "<tr>\n",
       "  <th>Df Model:</th>              <td>     2</td>      <th>                     </th>      <td> </td>     \n",
       "</tr>\n",
       "<tr>\n",
       "  <th>Covariance Type:</th>      <td>nonrobust</td>    <th>                     </th>      <td> </td>     \n",
       "</tr>\n",
       "</table>\n",
       "<table class=\"simpletable\">\n",
       "<tr>\n",
       "          <td></td>             <th>coef</th>     <th>std err</th>      <th>t</th>      <th>P>|t|</th>  <th>[0.025</th>    <th>0.975]</th>  \n",
       "</tr>\n",
       "<tr>\n",
       "  <th>trip_duration</th>     <td>    0.0448</td> <td>    0.000</td> <td>  384.499</td> <td> 0.000</td> <td>    0.045</td> <td>    0.045</td>\n",
       "</tr>\n",
       "<tr>\n",
       "  <th>distance_traveled</th> <td>    7.7839</td> <td>    0.023</td> <td>  335.224</td> <td> 0.000</td> <td>    7.738</td> <td>    7.829</td>\n",
       "</tr>\n",
       "<tr>\n",
       "  <th>num_of_passengers</th> <td>   26.5058</td> <td>    0.053</td> <td>  502.040</td> <td> 0.000</td> <td>   26.402</td> <td>   26.609</td>\n",
       "</tr>\n",
       "<tr>\n",
       "  <th>surge_applied</th>     <td>         0</td> <td>        0</td> <td>      nan</td> <td>   nan</td> <td>        0</td> <td>        0</td>\n",
       "</tr>\n",
       "</table>\n",
       "<table class=\"simpletable\">\n",
       "<tr>\n",
       "  <th>Omnibus:</th>       <td>101127.225</td> <th>  Durbin-Watson:     </th>   <td>   1.996</td>  \n",
       "</tr>\n",
       "<tr>\n",
       "  <th>Prob(Omnibus):</th>   <td> 0.000</td>   <th>  Jarque-Bera (JB):  </th> <td>13579234.730</td>\n",
       "</tr>\n",
       "<tr>\n",
       "  <th>Skew:</th>            <td> 4.056</td>   <th>  Prob(JB):          </th>   <td>    0.00</td>  \n",
       "</tr>\n",
       "<tr>\n",
       "  <th>Kurtosis:</th>        <td>57.101</td>   <th>  Cond. No.          </th>   <td>     inf</td>  \n",
       "</tr>\n",
       "</table><br/><br/>Notes:<br/>[1] Standard Errors assume that the covariance matrix of the errors is correctly specified.<br/>[2] The smallest eigenvalue is      0. This might indicate that there are<br/>strong multicollinearity problems or that the design matrix is singular."
      ],
      "text/latex": [
       "\\begin{center}\n",
       "\\begin{tabular}{lclc}\n",
       "\\toprule\n",
       "\\textbf{Dep. Variable:}      &   Total\\_fare    & \\textbf{  R-squared:         } &      0.905    \\\\\n",
       "\\textbf{Model:}              &       OLS        & \\textbf{  Adj. R-squared:    } &      0.905    \\\\\n",
       "\\textbf{Method:}             &  Least Squares   & \\textbf{  F-statistic:       } &  5.175e+05    \\\\\n",
       "\\textbf{Date:}               & Fri, 22 Mar 2024 & \\textbf{  Prob (F-statistic):} &      0.00     \\\\\n",
       "\\textbf{Time:}               &     01:58:27     & \\textbf{  Log-Likelihood:    } & -3.7976e+05   \\\\\n",
       "\\textbf{No. Observations:}   &      108899      & \\textbf{  AIC:               } &  7.595e+05    \\\\\n",
       "\\textbf{Df Residuals:}       &      108896      & \\textbf{  BIC:               } &  7.596e+05    \\\\\n",
       "\\textbf{Df Model:}           &           2      & \\textbf{                     } &               \\\\\n",
       "\\textbf{Covariance Type:}    &    nonrobust     & \\textbf{                     } &               \\\\\n",
       "\\bottomrule\n",
       "\\end{tabular}\n",
       "\\begin{tabular}{lcccccc}\n",
       "                             & \\textbf{coef} & \\textbf{std err} & \\textbf{t} & \\textbf{P$> |$t$|$} & \\textbf{[0.025} & \\textbf{0.975]}  \\\\\n",
       "\\midrule\n",
       "\\textbf{trip\\_duration}      &       0.0448  &        0.000     &   384.499  &         0.000        &        0.045    &        0.045     \\\\\n",
       "\\textbf{distance\\_traveled}  &       7.7839  &        0.023     &   335.224  &         0.000        &        7.738    &        7.829     \\\\\n",
       "\\textbf{num\\_of\\_passengers} &      26.5058  &        0.053     &   502.040  &         0.000        &       26.402    &       26.609     \\\\\n",
       "\\textbf{surge\\_applied}      &            0  &            0     &       nan  &           nan        &            0    &            0     \\\\\n",
       "\\bottomrule\n",
       "\\end{tabular}\n",
       "\\begin{tabular}{lclc}\n",
       "\\textbf{Omnibus:}       & 101127.225 & \\textbf{  Durbin-Watson:     } &      1.996    \\\\\n",
       "\\textbf{Prob(Omnibus):} &    0.000   & \\textbf{  Jarque-Bera (JB):  } & 13579234.730  \\\\\n",
       "\\textbf{Skew:}          &    4.056   & \\textbf{  Prob(JB):          } &       0.00    \\\\\n",
       "\\textbf{Kurtosis:}      &   57.101   & \\textbf{  Cond. No.          } &        inf    \\\\\n",
       "\\bottomrule\n",
       "\\end{tabular}\n",
       "%\\caption{OLS Regression Results}\n",
       "\\end{center}\n",
       "\n",
       "Notes: \\newline\n",
       " [1] Standard Errors assume that the covariance matrix of the errors is correctly specified. \\newline\n",
       " [2] The smallest eigenvalue is      0. This might indicate that there are \\newline\n",
       " strong multicollinearity problems or that the design matrix is singular."
      ],
      "text/plain": [
       "<class 'statsmodels.iolib.summary.Summary'>\n",
       "\"\"\"\n",
       "                            OLS Regression Results                            \n",
       "==============================================================================\n",
       "Dep. Variable:             Total_fare   R-squared:                       0.905\n",
       "Model:                            OLS   Adj. R-squared:                  0.905\n",
       "Method:                 Least Squares   F-statistic:                 5.175e+05\n",
       "Date:                Fri, 22 Mar 2024   Prob (F-statistic):               0.00\n",
       "Time:                        01:58:27   Log-Likelihood:            -3.7976e+05\n",
       "No. Observations:              108899   AIC:                         7.595e+05\n",
       "Df Residuals:                  108896   BIC:                         7.596e+05\n",
       "Df Model:                           2                                         \n",
       "Covariance Type:            nonrobust                                         \n",
       "=====================================================================================\n",
       "                        coef    std err          t      P>|t|      [0.025      0.975]\n",
       "-------------------------------------------------------------------------------------\n",
       "trip_duration         0.0448      0.000    384.499      0.000       0.045       0.045\n",
       "distance_traveled     7.7839      0.023    335.224      0.000       7.738       7.829\n",
       "num_of_passengers    26.5058      0.053    502.040      0.000      26.402      26.609\n",
       "surge_applied              0          0        nan        nan           0           0\n",
       "==============================================================================\n",
       "Omnibus:                   101127.225   Durbin-Watson:                   1.996\n",
       "Prob(Omnibus):                  0.000   Jarque-Bera (JB):         13579234.730\n",
       "Skew:                           4.056   Prob(JB):                         0.00\n",
       "Kurtosis:                      57.101   Cond. No.                          inf\n",
       "==============================================================================\n",
       "\n",
       "Notes:\n",
       "[1] Standard Errors assume that the covariance matrix of the errors is correctly specified.\n",
       "[2] The smallest eigenvalue is      0. This might indicate that there are\n",
       "strong multicollinearity problems or that the design matrix is singular.\n",
       "\"\"\""
      ]
     },
     "execution_count": 89,
     "metadata": {},
     "output_type": "execute_result"
    }
   ],
   "source": [
    "model.summary()"
   ]
  },
  {
   "cell_type": "code",
   "execution_count": 90,
   "id": "edbcdcba",
   "metadata": {},
   "outputs": [
    {
     "data": {
      "text/plain": [
       "<Axes: xlabel='Total_fare', ylabel='Density'>"
      ]
     },
     "execution_count": 90,
     "metadata": {},
     "output_type": "execute_result"
    },
    {
     "data": {
      "image/png": "[encoded data removed]",
      "text/plain": [
       "<Figure size 640x480 with 1 Axes>"
      ]
     },
     "metadata": {},
     "output_type": "display_data"
    }
   ],
   "source": [
    "sns.kdeplot(fin_df[\"Total_fare\"])"
   ]
  },
  {
   "cell_type": "code",
   "execution_count": null,
   "id": "fdb020bf",
   "metadata": {},
   "outputs": [],
   "source": []
  },
  {
   "cell_type": "code",
   "execution_count": null,
   "id": "27993a31",
   "metadata": {},
   "outputs": [],
   "source": []
  },
  {
   "cell_type": "code",
   "execution_count": null,
   "id": "3fd10902",
   "metadata": {},
   "outputs": [],
   "source": []
  },
  {
   "cell_type": "code",
   "execution_count": null,
   "id": "49451ce2",
   "metadata": {},
   "outputs": [],
   "source": []
  }
 ],
 "metadata": {
  "kernelspec": {
   "display_name": "Python 3 (ipykernel)",
   "language": "python",
   "name": "python3"
  },
  "language_info": {
   "codemirror_mode": {
    "name": "ipython",
    "version": 3
   },
   "file_extension": ".py",
   "mimetype": "text/x-python",
   "name": "python",
   "nbconvert_exporter": "python",
   "pygments_lexer": "ipython3",
   "version": "3.11.5"
  }
 },
 "nbformat": 4,
 "nbformat_minor": 5
}
